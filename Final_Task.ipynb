{
 "cells": [
  {
   "cell_type": "code",
   "execution_count": null,
   "id": "cb941530",
   "metadata": {},
   "outputs": [],
   "source": [
    "import pandas as pd\n",
    "import numpy as np\n",
    "import matplotlib.pyplot as plt\n",
    "import seaborn as sns\n",
    "from sklearn.preprocessing import MinMaxScaler, LabelEncoder\n",
    "from sklearn.model_selection import train_test_split, GridSearchCV\n",
    "from sklearn.ensemble import RandomForestClassifier\n",
    "from sklearn.linear_model import LogisticRegression\n",
    "from sklearn.metrics import roc_auc_score, accuracy_score, precision_score, recall_score"
   ]
  },
  {
   "cell_type": "code",
   "execution_count": 2,
   "id": "a5de2a48",
   "metadata": {},
   "outputs": [],
   "source": [
    "SEED = 1"
   ]
  },
  {
   "cell_type": "markdown",
   "id": "587e6c6a",
   "metadata": {},
   "source": [
    "# Import data"
   ]
  },
  {
   "cell_type": "code",
   "execution_count": 77,
   "id": "89e91b88",
   "metadata": {},
   "outputs": [
    {
     "name": "stderr",
     "output_type": "stream",
     "text": [
      "/opt/anaconda3/lib/python3.9/site-packages/IPython/core/interactiveshell.py:3444: DtypeWarning: Columns (20) have mixed types.Specify dtype option on import or set low_memory=False.\n",
      "  exec(code_obj, self.user_global_ns, self.user_ns)\n"
     ]
    }
   ],
   "source": [
    "raw_data_df = pd.read_csv('loan_data_2007_2014.csv', index_col=0)"
   ]
  },
  {
   "cell_type": "code",
   "execution_count": 78,
   "id": "ba43c069",
   "metadata": {
    "scrolled": true
   },
   "outputs": [
    {
     "data": {
      "text/html": [
       "<div>\n",
       "<style scoped>\n",
       "    .dataframe tbody tr th:only-of-type {\n",
       "        vertical-align: middle;\n",
       "    }\n",
       "\n",
       "    .dataframe tbody tr th {\n",
       "        vertical-align: top;\n",
       "    }\n",
       "\n",
       "    .dataframe thead th {\n",
       "        text-align: right;\n",
       "    }\n",
       "</style>\n",
       "<table border=\"1\" class=\"dataframe\">\n",
       "  <thead>\n",
       "    <tr style=\"text-align: right;\">\n",
       "      <th></th>\n",
       "      <th>id</th>\n",
       "      <th>member_id</th>\n",
       "      <th>loan_amnt</th>\n",
       "      <th>funded_amnt</th>\n",
       "      <th>funded_amnt_inv</th>\n",
       "      <th>term</th>\n",
       "      <th>int_rate</th>\n",
       "      <th>installment</th>\n",
       "      <th>grade</th>\n",
       "      <th>sub_grade</th>\n",
       "      <th>...</th>\n",
       "      <th>total_bal_il</th>\n",
       "      <th>il_util</th>\n",
       "      <th>open_rv_12m</th>\n",
       "      <th>open_rv_24m</th>\n",
       "      <th>max_bal_bc</th>\n",
       "      <th>all_util</th>\n",
       "      <th>total_rev_hi_lim</th>\n",
       "      <th>inq_fi</th>\n",
       "      <th>total_cu_tl</th>\n",
       "      <th>inq_last_12m</th>\n",
       "    </tr>\n",
       "  </thead>\n",
       "  <tbody>\n",
       "    <tr>\n",
       "      <th>0</th>\n",
       "      <td>1077501</td>\n",
       "      <td>1296599</td>\n",
       "      <td>5000</td>\n",
       "      <td>5000</td>\n",
       "      <td>4975.0</td>\n",
       "      <td>36 months</td>\n",
       "      <td>10.65</td>\n",
       "      <td>162.87</td>\n",
       "      <td>B</td>\n",
       "      <td>B2</td>\n",
       "      <td>...</td>\n",
       "      <td>NaN</td>\n",
       "      <td>NaN</td>\n",
       "      <td>NaN</td>\n",
       "      <td>NaN</td>\n",
       "      <td>NaN</td>\n",
       "      <td>NaN</td>\n",
       "      <td>NaN</td>\n",
       "      <td>NaN</td>\n",
       "      <td>NaN</td>\n",
       "      <td>NaN</td>\n",
       "    </tr>\n",
       "    <tr>\n",
       "      <th>1</th>\n",
       "      <td>1077430</td>\n",
       "      <td>1314167</td>\n",
       "      <td>2500</td>\n",
       "      <td>2500</td>\n",
       "      <td>2500.0</td>\n",
       "      <td>60 months</td>\n",
       "      <td>15.27</td>\n",
       "      <td>59.83</td>\n",
       "      <td>C</td>\n",
       "      <td>C4</td>\n",
       "      <td>...</td>\n",
       "      <td>NaN</td>\n",
       "      <td>NaN</td>\n",
       "      <td>NaN</td>\n",
       "      <td>NaN</td>\n",
       "      <td>NaN</td>\n",
       "      <td>NaN</td>\n",
       "      <td>NaN</td>\n",
       "      <td>NaN</td>\n",
       "      <td>NaN</td>\n",
       "      <td>NaN</td>\n",
       "    </tr>\n",
       "    <tr>\n",
       "      <th>2</th>\n",
       "      <td>1077175</td>\n",
       "      <td>1313524</td>\n",
       "      <td>2400</td>\n",
       "      <td>2400</td>\n",
       "      <td>2400.0</td>\n",
       "      <td>36 months</td>\n",
       "      <td>15.96</td>\n",
       "      <td>84.33</td>\n",
       "      <td>C</td>\n",
       "      <td>C5</td>\n",
       "      <td>...</td>\n",
       "      <td>NaN</td>\n",
       "      <td>NaN</td>\n",
       "      <td>NaN</td>\n",
       "      <td>NaN</td>\n",
       "      <td>NaN</td>\n",
       "      <td>NaN</td>\n",
       "      <td>NaN</td>\n",
       "      <td>NaN</td>\n",
       "      <td>NaN</td>\n",
       "      <td>NaN</td>\n",
       "    </tr>\n",
       "    <tr>\n",
       "      <th>3</th>\n",
       "      <td>1076863</td>\n",
       "      <td>1277178</td>\n",
       "      <td>10000</td>\n",
       "      <td>10000</td>\n",
       "      <td>10000.0</td>\n",
       "      <td>36 months</td>\n",
       "      <td>13.49</td>\n",
       "      <td>339.31</td>\n",
       "      <td>C</td>\n",
       "      <td>C1</td>\n",
       "      <td>...</td>\n",
       "      <td>NaN</td>\n",
       "      <td>NaN</td>\n",
       "      <td>NaN</td>\n",
       "      <td>NaN</td>\n",
       "      <td>NaN</td>\n",
       "      <td>NaN</td>\n",
       "      <td>NaN</td>\n",
       "      <td>NaN</td>\n",
       "      <td>NaN</td>\n",
       "      <td>NaN</td>\n",
       "    </tr>\n",
       "    <tr>\n",
       "      <th>4</th>\n",
       "      <td>1075358</td>\n",
       "      <td>1311748</td>\n",
       "      <td>3000</td>\n",
       "      <td>3000</td>\n",
       "      <td>3000.0</td>\n",
       "      <td>60 months</td>\n",
       "      <td>12.69</td>\n",
       "      <td>67.79</td>\n",
       "      <td>B</td>\n",
       "      <td>B5</td>\n",
       "      <td>...</td>\n",
       "      <td>NaN</td>\n",
       "      <td>NaN</td>\n",
       "      <td>NaN</td>\n",
       "      <td>NaN</td>\n",
       "      <td>NaN</td>\n",
       "      <td>NaN</td>\n",
       "      <td>NaN</td>\n",
       "      <td>NaN</td>\n",
       "      <td>NaN</td>\n",
       "      <td>NaN</td>\n",
       "    </tr>\n",
       "    <tr>\n",
       "      <th>...</th>\n",
       "      <td>...</td>\n",
       "      <td>...</td>\n",
       "      <td>...</td>\n",
       "      <td>...</td>\n",
       "      <td>...</td>\n",
       "      <td>...</td>\n",
       "      <td>...</td>\n",
       "      <td>...</td>\n",
       "      <td>...</td>\n",
       "      <td>...</td>\n",
       "      <td>...</td>\n",
       "      <td>...</td>\n",
       "      <td>...</td>\n",
       "      <td>...</td>\n",
       "      <td>...</td>\n",
       "      <td>...</td>\n",
       "      <td>...</td>\n",
       "      <td>...</td>\n",
       "      <td>...</td>\n",
       "      <td>...</td>\n",
       "      <td>...</td>\n",
       "    </tr>\n",
       "    <tr>\n",
       "      <th>466280</th>\n",
       "      <td>8598660</td>\n",
       "      <td>1440975</td>\n",
       "      <td>18400</td>\n",
       "      <td>18400</td>\n",
       "      <td>18400.0</td>\n",
       "      <td>60 months</td>\n",
       "      <td>14.47</td>\n",
       "      <td>432.64</td>\n",
       "      <td>C</td>\n",
       "      <td>C2</td>\n",
       "      <td>...</td>\n",
       "      <td>NaN</td>\n",
       "      <td>NaN</td>\n",
       "      <td>NaN</td>\n",
       "      <td>NaN</td>\n",
       "      <td>NaN</td>\n",
       "      <td>NaN</td>\n",
       "      <td>29900.0</td>\n",
       "      <td>NaN</td>\n",
       "      <td>NaN</td>\n",
       "      <td>NaN</td>\n",
       "    </tr>\n",
       "    <tr>\n",
       "      <th>466281</th>\n",
       "      <td>9684700</td>\n",
       "      <td>11536848</td>\n",
       "      <td>22000</td>\n",
       "      <td>22000</td>\n",
       "      <td>22000.0</td>\n",
       "      <td>60 months</td>\n",
       "      <td>19.97</td>\n",
       "      <td>582.50</td>\n",
       "      <td>D</td>\n",
       "      <td>D5</td>\n",
       "      <td>...</td>\n",
       "      <td>NaN</td>\n",
       "      <td>NaN</td>\n",
       "      <td>NaN</td>\n",
       "      <td>NaN</td>\n",
       "      <td>NaN</td>\n",
       "      <td>NaN</td>\n",
       "      <td>39400.0</td>\n",
       "      <td>NaN</td>\n",
       "      <td>NaN</td>\n",
       "      <td>NaN</td>\n",
       "    </tr>\n",
       "    <tr>\n",
       "      <th>466282</th>\n",
       "      <td>9584776</td>\n",
       "      <td>11436914</td>\n",
       "      <td>20700</td>\n",
       "      <td>20700</td>\n",
       "      <td>20700.0</td>\n",
       "      <td>60 months</td>\n",
       "      <td>16.99</td>\n",
       "      <td>514.34</td>\n",
       "      <td>D</td>\n",
       "      <td>D1</td>\n",
       "      <td>...</td>\n",
       "      <td>NaN</td>\n",
       "      <td>NaN</td>\n",
       "      <td>NaN</td>\n",
       "      <td>NaN</td>\n",
       "      <td>NaN</td>\n",
       "      <td>NaN</td>\n",
       "      <td>13100.0</td>\n",
       "      <td>NaN</td>\n",
       "      <td>NaN</td>\n",
       "      <td>NaN</td>\n",
       "    </tr>\n",
       "    <tr>\n",
       "      <th>466283</th>\n",
       "      <td>9604874</td>\n",
       "      <td>11457002</td>\n",
       "      <td>2000</td>\n",
       "      <td>2000</td>\n",
       "      <td>2000.0</td>\n",
       "      <td>36 months</td>\n",
       "      <td>7.90</td>\n",
       "      <td>62.59</td>\n",
       "      <td>A</td>\n",
       "      <td>A4</td>\n",
       "      <td>...</td>\n",
       "      <td>NaN</td>\n",
       "      <td>NaN</td>\n",
       "      <td>NaN</td>\n",
       "      <td>NaN</td>\n",
       "      <td>NaN</td>\n",
       "      <td>NaN</td>\n",
       "      <td>53100.0</td>\n",
       "      <td>NaN</td>\n",
       "      <td>NaN</td>\n",
       "      <td>NaN</td>\n",
       "    </tr>\n",
       "    <tr>\n",
       "      <th>466284</th>\n",
       "      <td>9199665</td>\n",
       "      <td>11061576</td>\n",
       "      <td>10000</td>\n",
       "      <td>10000</td>\n",
       "      <td>9975.0</td>\n",
       "      <td>36 months</td>\n",
       "      <td>19.20</td>\n",
       "      <td>367.58</td>\n",
       "      <td>D</td>\n",
       "      <td>D3</td>\n",
       "      <td>...</td>\n",
       "      <td>NaN</td>\n",
       "      <td>NaN</td>\n",
       "      <td>NaN</td>\n",
       "      <td>NaN</td>\n",
       "      <td>NaN</td>\n",
       "      <td>NaN</td>\n",
       "      <td>16000.0</td>\n",
       "      <td>NaN</td>\n",
       "      <td>NaN</td>\n",
       "      <td>NaN</td>\n",
       "    </tr>\n",
       "  </tbody>\n",
       "</table>\n",
       "<p>466285 rows × 74 columns</p>\n",
       "</div>"
      ],
      "text/plain": [
       "             id  member_id  loan_amnt  funded_amnt  funded_amnt_inv  \\\n",
       "0       1077501    1296599       5000         5000           4975.0   \n",
       "1       1077430    1314167       2500         2500           2500.0   \n",
       "2       1077175    1313524       2400         2400           2400.0   \n",
       "3       1076863    1277178      10000        10000          10000.0   \n",
       "4       1075358    1311748       3000         3000           3000.0   \n",
       "...         ...        ...        ...          ...              ...   \n",
       "466280  8598660    1440975      18400        18400          18400.0   \n",
       "466281  9684700   11536848      22000        22000          22000.0   \n",
       "466282  9584776   11436914      20700        20700          20700.0   \n",
       "466283  9604874   11457002       2000         2000           2000.0   \n",
       "466284  9199665   11061576      10000        10000           9975.0   \n",
       "\n",
       "              term  int_rate  installment grade sub_grade  ... total_bal_il  \\\n",
       "0        36 months     10.65       162.87     B        B2  ...          NaN   \n",
       "1        60 months     15.27        59.83     C        C4  ...          NaN   \n",
       "2        36 months     15.96        84.33     C        C5  ...          NaN   \n",
       "3        36 months     13.49       339.31     C        C1  ...          NaN   \n",
       "4        60 months     12.69        67.79     B        B5  ...          NaN   \n",
       "...            ...       ...          ...   ...       ...  ...          ...   \n",
       "466280   60 months     14.47       432.64     C        C2  ...          NaN   \n",
       "466281   60 months     19.97       582.50     D        D5  ...          NaN   \n",
       "466282   60 months     16.99       514.34     D        D1  ...          NaN   \n",
       "466283   36 months      7.90        62.59     A        A4  ...          NaN   \n",
       "466284   36 months     19.20       367.58     D        D3  ...          NaN   \n",
       "\n",
       "       il_util open_rv_12m  open_rv_24m max_bal_bc all_util total_rev_hi_lim  \\\n",
       "0          NaN         NaN          NaN        NaN      NaN              NaN   \n",
       "1          NaN         NaN          NaN        NaN      NaN              NaN   \n",
       "2          NaN         NaN          NaN        NaN      NaN              NaN   \n",
       "3          NaN         NaN          NaN        NaN      NaN              NaN   \n",
       "4          NaN         NaN          NaN        NaN      NaN              NaN   \n",
       "...        ...         ...          ...        ...      ...              ...   \n",
       "466280     NaN         NaN          NaN        NaN      NaN          29900.0   \n",
       "466281     NaN         NaN          NaN        NaN      NaN          39400.0   \n",
       "466282     NaN         NaN          NaN        NaN      NaN          13100.0   \n",
       "466283     NaN         NaN          NaN        NaN      NaN          53100.0   \n",
       "466284     NaN         NaN          NaN        NaN      NaN          16000.0   \n",
       "\n",
       "       inq_fi total_cu_tl inq_last_12m  \n",
       "0         NaN         NaN          NaN  \n",
       "1         NaN         NaN          NaN  \n",
       "2         NaN         NaN          NaN  \n",
       "3         NaN         NaN          NaN  \n",
       "4         NaN         NaN          NaN  \n",
       "...       ...         ...          ...  \n",
       "466280    NaN         NaN          NaN  \n",
       "466281    NaN         NaN          NaN  \n",
       "466282    NaN         NaN          NaN  \n",
       "466283    NaN         NaN          NaN  \n",
       "466284    NaN         NaN          NaN  \n",
       "\n",
       "[466285 rows x 74 columns]"
      ]
     },
     "execution_count": 78,
     "metadata": {},
     "output_type": "execute_result"
    }
   ],
   "source": [
    "raw_data_df"
   ]
  },
  {
   "cell_type": "code",
   "execution_count": 79,
   "id": "4a073550",
   "metadata": {
    "scrolled": false
   },
   "outputs": [
    {
     "name": "stdout",
     "output_type": "stream",
     "text": [
      "<class 'pandas.core.frame.DataFrame'>\n",
      "Int64Index: 466285 entries, 0 to 466284\n",
      "Data columns (total 74 columns):\n",
      " #   Column                       Non-Null Count   Dtype  \n",
      "---  ------                       --------------   -----  \n",
      " 0   id                           466285 non-null  int64  \n",
      " 1   member_id                    466285 non-null  int64  \n",
      " 2   loan_amnt                    466285 non-null  int64  \n",
      " 3   funded_amnt                  466285 non-null  int64  \n",
      " 4   funded_amnt_inv              466285 non-null  float64\n",
      " 5   term                         466285 non-null  object \n",
      " 6   int_rate                     466285 non-null  float64\n",
      " 7   installment                  466285 non-null  float64\n",
      " 8   grade                        466285 non-null  object \n",
      " 9   sub_grade                    466285 non-null  object \n",
      " 10  emp_title                    438697 non-null  object \n",
      " 11  emp_length                   445277 non-null  object \n",
      " 12  home_ownership               466285 non-null  object \n",
      " 13  annual_inc                   466281 non-null  float64\n",
      " 14  verification_status          466285 non-null  object \n",
      " 15  issue_d                      466285 non-null  object \n",
      " 16  loan_status                  466285 non-null  object \n",
      " 17  pymnt_plan                   466285 non-null  object \n",
      " 18  url                          466285 non-null  object \n",
      " 19  desc                         125983 non-null  object \n",
      " 20  purpose                      466285 non-null  object \n",
      " 21  title                        466265 non-null  object \n",
      " 22  zip_code                     466285 non-null  object \n",
      " 23  addr_state                   466285 non-null  object \n",
      " 24  dti                          466285 non-null  float64\n",
      " 25  delinq_2yrs                  466256 non-null  float64\n",
      " 26  earliest_cr_line             466256 non-null  object \n",
      " 27  inq_last_6mths               466256 non-null  float64\n",
      " 28  mths_since_last_delinq       215934 non-null  float64\n",
      " 29  mths_since_last_record       62638 non-null   float64\n",
      " 30  open_acc                     466256 non-null  float64\n",
      " 31  pub_rec                      466256 non-null  float64\n",
      " 32  revol_bal                    466285 non-null  int64  \n",
      " 33  revol_util                   465945 non-null  float64\n",
      " 34  total_acc                    466256 non-null  float64\n",
      " 35  initial_list_status          466285 non-null  object \n",
      " 36  out_prncp                    466285 non-null  float64\n",
      " 37  out_prncp_inv                466285 non-null  float64\n",
      " 38  total_pymnt                  466285 non-null  float64\n",
      " 39  total_pymnt_inv              466285 non-null  float64\n",
      " 40  total_rec_prncp              466285 non-null  float64\n",
      " 41  total_rec_int                466285 non-null  float64\n",
      " 42  total_rec_late_fee           466285 non-null  float64\n",
      " 43  recoveries                   466285 non-null  float64\n",
      " 44  collection_recovery_fee      466285 non-null  float64\n",
      " 45  last_pymnt_d                 465909 non-null  object \n",
      " 46  last_pymnt_amnt              466285 non-null  float64\n",
      " 47  next_pymnt_d                 239071 non-null  object \n",
      " 48  last_credit_pull_d           466243 non-null  object \n",
      " 49  collections_12_mths_ex_med   466140 non-null  float64\n",
      " 50  mths_since_last_major_derog  98974 non-null   float64\n",
      " 51  policy_code                  466285 non-null  int64  \n",
      " 52  application_type             466285 non-null  object \n",
      " 53  annual_inc_joint             0 non-null       float64\n",
      " 54  dti_joint                    0 non-null       float64\n",
      " 55  verification_status_joint    0 non-null       float64\n",
      " 56  acc_now_delinq               466256 non-null  float64\n",
      " 57  tot_coll_amt                 396009 non-null  float64\n",
      " 58  tot_cur_bal                  396009 non-null  float64\n",
      " 59  open_acc_6m                  0 non-null       float64\n",
      " 60  open_il_6m                   0 non-null       float64\n",
      " 61  open_il_12m                  0 non-null       float64\n",
      " 62  open_il_24m                  0 non-null       float64\n",
      " 63  mths_since_rcnt_il           0 non-null       float64\n",
      " 64  total_bal_il                 0 non-null       float64\n",
      " 65  il_util                      0 non-null       float64\n",
      " 66  open_rv_12m                  0 non-null       float64\n",
      " 67  open_rv_24m                  0 non-null       float64\n",
      " 68  max_bal_bc                   0 non-null       float64\n",
      " 69  all_util                     0 non-null       float64\n",
      " 70  total_rev_hi_lim             396009 non-null  float64\n",
      " 71  inq_fi                       0 non-null       float64\n",
      " 72  total_cu_tl                  0 non-null       float64\n",
      " 73  inq_last_12m                 0 non-null       float64\n",
      "dtypes: float64(46), int64(6), object(22)\n",
      "memory usage: 266.8+ MB\n"
     ]
    }
   ],
   "source": [
    "raw_data_df.info()"
   ]
  },
  {
   "cell_type": "code",
   "execution_count": 80,
   "id": "8428735a",
   "metadata": {},
   "outputs": [
    {
     "data": {
      "text/plain": [
       "(466285, 74)"
      ]
     },
     "execution_count": 80,
     "metadata": {},
     "output_type": "execute_result"
    }
   ],
   "source": [
    "raw_data_df.shape"
   ]
  },
  {
   "cell_type": "markdown",
   "id": "22aa9dd5",
   "metadata": {},
   "source": [
    "# Data cleaning & EDA"
   ]
  },
  {
   "cell_type": "markdown",
   "id": "4ec4cf80",
   "metadata": {},
   "source": [
    "## Remove duplicate rows"
   ]
  },
  {
   "cell_type": "code",
   "execution_count": 81,
   "id": "7e9f1b09",
   "metadata": {
    "scrolled": true
   },
   "outputs": [
    {
     "data": {
      "text/plain": [
       "False"
      ]
     },
     "execution_count": 81,
     "metadata": {},
     "output_type": "execute_result"
    }
   ],
   "source": [
    "# Check if there are duplicated rows\n",
    "raw_data_df['member_id'].duplicated().any()"
   ]
  },
  {
   "cell_type": "markdown",
   "id": "6ed72067",
   "metadata": {},
   "source": [
    "## Drop useless columns"
   ]
  },
  {
   "cell_type": "code",
   "execution_count": 82,
   "id": "2f142387",
   "metadata": {},
   "outputs": [],
   "source": [
    "useless_cols = ['id', \n",
    "                'member_id', \n",
    "                'url',\n",
    "                'desc',\n",
    "                'emp_title',\n",
    "                'pymnt_plan',\n",
    "                'title',\n",
    "                'funded_amnt_inv',\n",
    "                'addr_state',\n",
    "                'zip_code',\n",
    "                'pymnt_plan',\n",
    "                'last_pymnt_d',\n",
    "                'next_pymnt_d']\n",
    "\n",
    "clean_df = raw_data_df.drop(columns=useless_cols)"
   ]
  },
  {
   "cell_type": "markdown",
   "id": "22740a8c",
   "metadata": {},
   "source": [
    "## String manipulation\n",
    "#### term"
   ]
  },
  {
   "cell_type": "code",
   "execution_count": 83,
   "id": "82a8462e",
   "metadata": {},
   "outputs": [
    {
     "data": {
      "text/plain": [
       "[' 36 months', ' 60 months']"
      ]
     },
     "execution_count": 83,
     "metadata": {},
     "output_type": "execute_result"
    }
   ],
   "source": [
    "list(clean_df['term'].unique())"
   ]
  },
  {
   "cell_type": "code",
   "execution_count": 84,
   "id": "19c1bfd4",
   "metadata": {},
   "outputs": [],
   "source": [
    "# In column 'term', remove string 'months'\n",
    "clean_df['term'] = clean_df['term'].str.replace('months', '')\n",
    "clean_df['term'] = clean_df['term'].astype(int)"
   ]
  },
  {
   "cell_type": "code",
   "execution_count": 85,
   "id": "56baf2e6",
   "metadata": {},
   "outputs": [
    {
     "data": {
      "text/plain": [
       "[36, 60]"
      ]
     },
     "execution_count": 85,
     "metadata": {},
     "output_type": "execute_result"
    }
   ],
   "source": [
    "list(clean_df['term'].unique())"
   ]
  },
  {
   "cell_type": "markdown",
   "id": "3e1b5cb1",
   "metadata": {},
   "source": [
    "#### emp_length"
   ]
  },
  {
   "cell_type": "code",
   "execution_count": 86,
   "id": "8e37f726",
   "metadata": {},
   "outputs": [
    {
     "data": {
      "text/plain": [
       "['10+ years',\n",
       " '< 1 year',\n",
       " '1 year',\n",
       " '3 years',\n",
       " '8 years',\n",
       " '9 years',\n",
       " '4 years',\n",
       " '5 years',\n",
       " '6 years',\n",
       " '2 years',\n",
       " '7 years',\n",
       " nan]"
      ]
     },
     "execution_count": 86,
     "metadata": {},
     "output_type": "execute_result"
    }
   ],
   "source": [
    "list(clean_df['emp_length'].unique())"
   ]
  },
  {
   "cell_type": "code",
   "execution_count": 87,
   "id": "bb53c6d1",
   "metadata": {},
   "outputs": [
    {
     "name": "stderr",
     "output_type": "stream",
     "text": [
      "/var/folders/4z/2xj80t2s3bl5rs99dyjfmh780000gn/T/ipykernel_7984/1554144225.py:2: FutureWarning: The default value of regex will change from True to False in a future version. In addition, single character regular expressions will *not* be treated as literal strings when regex=True.\n",
      "  clean_df['emp_length'] = clean_df['emp_length'].str.replace('+', '')\n"
     ]
    }
   ],
   "source": [
    "# In column 'emp_length', remove text\n",
    "clean_df['emp_length'] = clean_df['emp_length'].str.replace('+', '')\n",
    "clean_df['emp_length'] = clean_df['emp_length'].str.replace(' years', '')\n",
    "clean_df['emp_length'] = clean_df['emp_length'].str.replace('< 1 year', '0')\n",
    "clean_df['emp_length'] = clean_df['emp_length'].str.replace(' year', '')"
   ]
  },
  {
   "cell_type": "code",
   "execution_count": 88,
   "id": "857fb587",
   "metadata": {},
   "outputs": [
    {
     "data": {
      "text/plain": [
       "['10', '0', '1', '3', '8', '9', '4', '5', '6', '2', '7', nan]"
      ]
     },
     "execution_count": 88,
     "metadata": {},
     "output_type": "execute_result"
    }
   ],
   "source": [
    "list(clean_df['emp_length'].unique())"
   ]
  },
  {
   "cell_type": "markdown",
   "id": "70473b0c",
   "metadata": {},
   "source": [
    "## Check null values"
   ]
  },
  {
   "cell_type": "code",
   "execution_count": 89,
   "id": "cfa18889",
   "metadata": {},
   "outputs": [],
   "source": [
    "# pd.set_option('display.max_rows', 500)"
   ]
  },
  {
   "cell_type": "code",
   "execution_count": 90,
   "id": "e069d33d",
   "metadata": {
    "scrolled": true
   },
   "outputs": [
    {
     "data": {
      "text/plain": [
       "loan_amnt                        0.000000\n",
       "funded_amnt                      0.000000\n",
       "term                             0.000000\n",
       "int_rate                         0.000000\n",
       "installment                      0.000000\n",
       "grade                            0.000000\n",
       "sub_grade                        0.000000\n",
       "emp_length                       4.505399\n",
       "home_ownership                   0.000000\n",
       "annual_inc                       0.000858\n",
       "verification_status              0.000000\n",
       "issue_d                          0.000000\n",
       "loan_status                      0.000000\n",
       "purpose                          0.000000\n",
       "dti                              0.000000\n",
       "delinq_2yrs                      0.006219\n",
       "earliest_cr_line                 0.006219\n",
       "inq_last_6mths                   0.006219\n",
       "mths_since_last_delinq          53.690554\n",
       "mths_since_last_record          86.566585\n",
       "open_acc                         0.006219\n",
       "pub_rec                          0.006219\n",
       "revol_bal                        0.000000\n",
       "revol_util                       0.072917\n",
       "total_acc                        0.006219\n",
       "initial_list_status              0.000000\n",
       "out_prncp                        0.000000\n",
       "out_prncp_inv                    0.000000\n",
       "total_pymnt                      0.000000\n",
       "total_pymnt_inv                  0.000000\n",
       "total_rec_prncp                  0.000000\n",
       "total_rec_int                    0.000000\n",
       "total_rec_late_fee               0.000000\n",
       "recoveries                       0.000000\n",
       "collection_recovery_fee          0.000000\n",
       "last_pymnt_amnt                  0.000000\n",
       "last_credit_pull_d               0.009007\n",
       "collections_12_mths_ex_med       0.031097\n",
       "mths_since_last_major_derog     78.773926\n",
       "policy_code                      0.000000\n",
       "application_type                 0.000000\n",
       "annual_inc_joint               100.000000\n",
       "dti_joint                      100.000000\n",
       "verification_status_joint      100.000000\n",
       "acc_now_delinq                   0.006219\n",
       "tot_coll_amt                    15.071469\n",
       "tot_cur_bal                     15.071469\n",
       "open_acc_6m                    100.000000\n",
       "open_il_6m                     100.000000\n",
       "open_il_12m                    100.000000\n",
       "open_il_24m                    100.000000\n",
       "mths_since_rcnt_il             100.000000\n",
       "total_bal_il                   100.000000\n",
       "il_util                        100.000000\n",
       "open_rv_12m                    100.000000\n",
       "open_rv_24m                    100.000000\n",
       "max_bal_bc                     100.000000\n",
       "all_util                       100.000000\n",
       "total_rev_hi_lim                15.071469\n",
       "inq_fi                         100.000000\n",
       "total_cu_tl                    100.000000\n",
       "inq_last_12m                   100.000000\n",
       "dtype: float64"
      ]
     },
     "execution_count": 90,
     "metadata": {},
     "output_type": "execute_result"
    }
   ],
   "source": [
    "(clean_df.isnull().sum()/len(clean_df))*100"
   ]
  },
  {
   "cell_type": "markdown",
   "id": "4ae40793",
   "metadata": {},
   "source": [
    "#### Drop columns with null values above 70%"
   ]
  },
  {
   "cell_type": "code",
   "execution_count": 91,
   "id": "a692bc73",
   "metadata": {},
   "outputs": [],
   "source": [
    "# Remove columns with null values above 70%\n",
    "\n",
    "null_cols = ['annual_inc_joint',\n",
    "            'dti_joint',\n",
    "            'verification_status_joint',\n",
    "            'open_acc_6m',\n",
    "            'open_il_6m',\n",
    "            'open_il_12m',\n",
    "            'open_il_24m',\n",
    "            'mths_since_rcnt_il',\n",
    "            'mths_since_last_record',\n",
    "            'mths_since_last_major_derog',\n",
    "            'total_bal_il',\n",
    "            'il_util',\n",
    "            'open_rv_12m',\n",
    "            'open_rv_24m',\n",
    "            'max_bal_bc',\n",
    "            'all_util',\n",
    "            'inq_fi',\n",
    "            'total_cu_tl',\n",
    "            'inq_last_12m']\n",
    "\n",
    "clean_df = clean_df.drop(columns=null_cols)"
   ]
  },
  {
   "cell_type": "markdown",
   "id": "1a173b36",
   "metadata": {},
   "source": [
    "#### Impute null values with median\n",
    "\n",
    "- annual income\n",
    "- revol_util\n",
    "- tot_cur_bal\n",
    "- total_rev_hi_lim"
   ]
  },
  {
   "cell_type": "code",
   "execution_count": 93,
   "id": "f00bca9f",
   "metadata": {},
   "outputs": [],
   "source": [
    "# Impute null values with median\n",
    "\n",
    "for col in ['annual_inc', \n",
    "            'revol_util',\n",
    "            'tot_cur_bal',\n",
    "            'total_rev_hi_lim']:\n",
    "    clean_df[col].fillna(clean_df[col].median(), inplace=True)\n",
    "    clean_df[col] = clean_df[col].astype(int)"
   ]
  },
  {
   "cell_type": "markdown",
   "id": "def33569",
   "metadata": {},
   "source": [
    "#### Impute null values with mode\n",
    "\n",
    "- emp_length\n",
    "- earliest_cr_line\n",
    "- last_credit_pull_d"
   ]
  },
  {
   "cell_type": "code",
   "execution_count": 95,
   "id": "eeb33c73",
   "metadata": {},
   "outputs": [],
   "source": [
    "# Impute null values with mode\n",
    "\n",
    "for col in ['emp_length', \n",
    "            'earliest_cr_line',\n",
    "            'last_credit_pull_d']:\n",
    "    clean_df[col].fillna(clean_df[col].mode()[0], inplace=True)"
   ]
  },
  {
   "cell_type": "markdown",
   "id": "4f56b2b0",
   "metadata": {},
   "source": [
    "#### Impute null values as 0\n",
    "\n",
    "- delinq_2yrs\n",
    "- inq_last_6mths\n",
    "- open_acc\n",
    "- pub_rec\n",
    "- total_acc\n",
    "- open_acc\n",
    "- pub_rec\n",
    "- collections_12_mths_ex_med\n",
    "- acc_now_delinq\n",
    "- tot_coll_amt\n",
    "- mths_since_last_delinq"
   ]
  },
  {
   "cell_type": "code",
   "execution_count": 96,
   "id": "1d565677",
   "metadata": {},
   "outputs": [],
   "source": [
    "# Impute null values as 0\n",
    "for col in ['delinq_2yrs',\n",
    "            'inq_last_6mths',\n",
    "            'open_acc',\n",
    "            'pub_rec',\n",
    "            'total_acc',\n",
    "            'open_acc',\n",
    "            'pub_rec',\n",
    "            'collections_12_mths_ex_med',\n",
    "            'acc_now_delinq',\n",
    "            'tot_coll_amt',\n",
    "            'mths_since_last_delinq']:\n",
    "    clean_df[col].fillna(0, inplace=True)\n",
    "    clean_df[col] = clean_df[col].astype(int)"
   ]
  },
  {
   "cell_type": "markdown",
   "id": "f7463ec4",
   "metadata": {},
   "source": [
    "#### Final check for null values"
   ]
  },
  {
   "cell_type": "code",
   "execution_count": 97,
   "id": "971112ba",
   "metadata": {
    "scrolled": true
   },
   "outputs": [
    {
     "data": {
      "text/plain": [
       "loan_amnt                     False\n",
       "funded_amnt                   False\n",
       "term                          False\n",
       "int_rate                      False\n",
       "installment                   False\n",
       "grade                         False\n",
       "sub_grade                     False\n",
       "emp_length                    False\n",
       "home_ownership                False\n",
       "annual_inc                    False\n",
       "verification_status           False\n",
       "issue_d                       False\n",
       "loan_status                   False\n",
       "purpose                       False\n",
       "dti                           False\n",
       "delinq_2yrs                   False\n",
       "earliest_cr_line              False\n",
       "inq_last_6mths                False\n",
       "mths_since_last_delinq        False\n",
       "open_acc                      False\n",
       "pub_rec                       False\n",
       "revol_bal                     False\n",
       "revol_util                    False\n",
       "total_acc                     False\n",
       "initial_list_status           False\n",
       "out_prncp                     False\n",
       "out_prncp_inv                 False\n",
       "total_pymnt                   False\n",
       "total_pymnt_inv               False\n",
       "total_rec_prncp               False\n",
       "total_rec_int                 False\n",
       "total_rec_late_fee            False\n",
       "recoveries                    False\n",
       "collection_recovery_fee       False\n",
       "last_pymnt_amnt               False\n",
       "last_credit_pull_d            False\n",
       "collections_12_mths_ex_med    False\n",
       "policy_code                   False\n",
       "application_type              False\n",
       "acc_now_delinq                False\n",
       "tot_coll_amt                  False\n",
       "tot_cur_bal                   False\n",
       "total_rev_hi_lim              False\n",
       "dtype: bool"
      ]
     },
     "execution_count": 97,
     "metadata": {},
     "output_type": "execute_result"
    }
   ],
   "source": [
    "# Check null values\n",
    "clean_df.isnull().any()"
   ]
  },
  {
   "cell_type": "markdown",
   "id": "5c27da82",
   "metadata": {},
   "source": [
    "## Set target variable\n",
    "\n",
    "The target variable is determined from the loan status in the dataset.\n",
    "\n",
    "Low risk (0) includes:\n",
    "- 'Does not meet the credit policy. Status:Fully Paid',\n",
    "- 'Fully Paid', \n",
    "- 'Current'\n",
    "\n",
    "\n",
    "High risk (1) includes:\n",
    "- 'Does not meet the credit policy. Status:Charged Off'\n",
    "- 'Charged Off'\n",
    "- 'Default'\n",
    "- 'Late (31-120 days)'\n",
    "- 'In Grace Period'\n",
    "- 'Late (16-30 days)"
   ]
  },
  {
   "cell_type": "code",
   "execution_count": 98,
   "id": "8f8346fe",
   "metadata": {},
   "outputs": [
    {
     "data": {
      "text/plain": [
       "['Fully Paid',\n",
       " 'Charged Off',\n",
       " 'Current',\n",
       " 'Default',\n",
       " 'Late (31-120 days)',\n",
       " 'In Grace Period',\n",
       " 'Late (16-30 days)',\n",
       " 'Does not meet the credit policy. Status:Fully Paid',\n",
       " 'Does not meet the credit policy. Status:Charged Off']"
      ]
     },
     "execution_count": 98,
     "metadata": {},
     "output_type": "execute_result"
    }
   ],
   "source": [
    "# Loan status categories\n",
    "list(clean_df['loan_status'].unique())"
   ]
  },
  {
   "cell_type": "code",
   "execution_count": 99,
   "id": "53a60bef",
   "metadata": {},
   "outputs": [],
   "source": [
    "# high_risk = ['Does not meet the credit policy. Status:Charged Off',\n",
    "#              'Charged Off',\n",
    "#              'Default',\n",
    "#              'Late (31-120 days)',\n",
    "#              'In Grace Period',\n",
    "#              'Late (16-30 days)']\n",
    "low_risk = ['Does not meet the credit policy. Status:Fully Paid',\n",
    "            'Fully Paid', \n",
    "            'Current']"
   ]
  },
  {
   "cell_type": "code",
   "execution_count": 100,
   "id": "b2215fc0",
   "metadata": {},
   "outputs": [],
   "source": [
    "# Change loan status to its corresponding labels\n",
    "clean_df['loan_status'] = clean_df['loan_status'].apply(lambda s: 0 if s in low_risk else 1)"
   ]
  },
  {
   "cell_type": "code",
   "execution_count": 101,
   "id": "d93575f2",
   "metadata": {},
   "outputs": [
    {
     "data": {
      "text/plain": [
       "[0, 1]"
      ]
     },
     "execution_count": 101,
     "metadata": {},
     "output_type": "execute_result"
    }
   ],
   "source": [
    "list(clean_df['loan_status'].unique())"
   ]
  },
  {
   "cell_type": "markdown",
   "id": "0c31fe9b",
   "metadata": {},
   "source": [
    "## Check data correlation\n",
    "Data correlation is important in weeding out unnecessary features that would create a faster and better working prediction model."
   ]
  },
  {
   "cell_type": "code",
   "execution_count": 102,
   "id": "8689ed44",
   "metadata": {},
   "outputs": [
    {
     "data": {
      "image/png": "[encoded data removed]",
      "text/plain": [
       "<Figure size 1080x720 with 2 Axes>"
      ]
     },
     "metadata": {
      "needs_background": "light"
     },
     "output_type": "display_data"
    }
   ],
   "source": [
    "# Create correlation matrix\n",
    "corr_matrix = clean_df.corr()\n",
    "\n",
    "# Display correlation matrix\n",
    "plt.figure(figsize=(15,10))\n",
    "sns.heatmap(corr_matrix)\n",
    "plt.show()"
   ]
  },
  {
   "cell_type": "markdown",
   "id": "43094a0e",
   "metadata": {},
   "source": [
    "### Remove low correlating data"
   ]
  },
  {
   "cell_type": "code",
   "execution_count": 109,
   "id": "b11049a3",
   "metadata": {},
   "outputs": [],
   "source": [
    "# Remove low correlating data\n",
    "clean_df = clean_df.drop(columns=['policy_code','recoveries','collection_recovery_fee'])"
   ]
  },
  {
   "cell_type": "markdown",
   "id": "853572d3",
   "metadata": {},
   "source": [
    "# Feature engineering"
   ]
  },
  {
   "cell_type": "code",
   "execution_count": 138,
   "id": "450b6453",
   "metadata": {},
   "outputs": [],
   "source": [
    "# Separate features with target variable\n",
    "y = clean_df['loan_status']\n",
    "X = clean_df.drop(columns=['loan_status'])"
   ]
  },
  {
   "cell_type": "markdown",
   "id": "c74e040a",
   "metadata": {},
   "source": [
    "## Encode categorical data"
   ]
  },
  {
   "cell_type": "code",
   "execution_count": 139,
   "id": "be09a7c9",
   "metadata": {
    "scrolled": true
   },
   "outputs": [
    {
     "data": {
      "text/plain": [
       "['grade',\n",
       " 'sub_grade',\n",
       " 'emp_length',\n",
       " 'home_ownership',\n",
       " 'verification_status',\n",
       " 'issue_d',\n",
       " 'purpose',\n",
       " 'earliest_cr_line',\n",
       " 'initial_list_status',\n",
       " 'last_credit_pull_d',\n",
       " 'application_type']"
      ]
     },
     "execution_count": 139,
     "metadata": {},
     "output_type": "execute_result"
    }
   ],
   "source": [
    "# Get columns with categorical data\n",
    "categorical_cols = list(X.select_dtypes(include=['object']).columns)\n",
    "categorical_cols"
   ]
  },
  {
   "cell_type": "code",
   "execution_count": 140,
   "id": "e6c20fc2",
   "metadata": {},
   "outputs": [],
   "source": [
    "# Encode categorical data\n",
    "X = pd.get_dummies(X, columns=categorical_cols)"
   ]
  },
  {
   "cell_type": "markdown",
   "id": "2b1af96d",
   "metadata": {},
   "source": [
    "## Data normalization"
   ]
  },
  {
   "cell_type": "code",
   "execution_count": 141,
   "id": "a83ca99c",
   "metadata": {},
   "outputs": [],
   "source": [
    "# Normalize data\n",
    "scaler = MinMaxScaler()\n",
    "X = scaler.fit_transform(X)"
   ]
  },
  {
   "cell_type": "markdown",
   "id": "f71ddd20",
   "metadata": {},
   "source": [
    "## Label encoding"
   ]
  },
  {
   "cell_type": "code",
   "execution_count": 143,
   "id": "15deceb2",
   "metadata": {},
   "outputs": [],
   "source": [
    "# Encode target variable\n",
    "lab_encoder = LabelEncoder()\n",
    "y = lab_encoder.fit_transform(y)"
   ]
  },
  {
   "cell_type": "markdown",
   "id": "a693e6eb",
   "metadata": {},
   "source": [
    "## Split train and test data"
   ]
  },
  {
   "cell_type": "code",
   "execution_count": 144,
   "id": "826e7e5c",
   "metadata": {},
   "outputs": [],
   "source": [
    "# Split data to train and test data\n",
    "X_train, X_test, y_train, y_test = train_test_split(X, y, test_size=0.2, random_state=SEED)"
   ]
  },
  {
   "cell_type": "code",
   "execution_count": 145,
   "id": "15fde011",
   "metadata": {},
   "outputs": [
    {
     "name": "stdout",
     "output_type": "stream",
     "text": [
      "X_train: (373028, 965)\n",
      "y_train: (373028,)\n",
      "\n",
      "X_test: (93257, 965)\n",
      "y_test: (93257,)\n"
     ]
    }
   ],
   "source": [
    "print('X_train:', X_train.shape)\n",
    "print('y_train:', y_train.shape)\n",
    "print('\\nX_test:', X_test.shape)\n",
    "print('y_test:', y_test.shape)"
   ]
  },
  {
   "cell_type": "markdown",
   "id": "a2d114aa",
   "metadata": {},
   "source": [
    "# Build model"
   ]
  },
  {
   "cell_type": "markdown",
   "id": "71ac2b28",
   "metadata": {},
   "source": [
    "## Random Forest"
   ]
  },
  {
   "cell_type": "code",
   "execution_count": 148,
   "id": "94dee60a",
   "metadata": {},
   "outputs": [],
   "source": [
    "# Build model\n",
    "rfc_model = RandomForestClassifier(random_state=SEED, n_jobs=-1, verbose=1)"
   ]
  },
  {
   "cell_type": "code",
   "execution_count": 149,
   "id": "7ab14f20",
   "metadata": {},
   "outputs": [
    {
     "name": "stderr",
     "output_type": "stream",
     "text": [
      "[Parallel(n_jobs=-1)]: Using backend ThreadingBackend with 8 concurrent workers.\n",
      "[Parallel(n_jobs=-1)]: Done  34 tasks      | elapsed:  1.6min\n",
      "[Parallel(n_jobs=-1)]: Done 100 out of 100 | elapsed:  4.5min finished\n"
     ]
    },
    {
     "data": {
      "text/html": [
       "<style>#sk-container-id-4 {color: black;}#sk-container-id-4 pre{padding: 0;}#sk-container-id-4 div.sk-toggleable {background-color: white;}#sk-container-id-4 label.sk-toggleable__label {cursor: pointer;display: block;width: 100%;margin-bottom: 0;padding: 0.3em;box-sizing: border-box;text-align: center;}#sk-container-id-4 label.sk-toggleable__label-arrow:before {content: \"▸\";float: left;margin-right: 0.25em;color: #696969;}#sk-container-id-4 label.sk-toggleable__label-arrow:hover:before {color: black;}#sk-container-id-4 div.sk-estimator:hover label.sk-toggleable__label-arrow:before {color: black;}#sk-container-id-4 div.sk-toggleable__content {max-height: 0;max-width: 0;overflow: hidden;text-align: left;background-color: #f0f8ff;}#sk-container-id-4 div.sk-toggleable__content pre {margin: 0.2em;color: black;border-radius: 0.25em;background-color: #f0f8ff;}#sk-container-id-4 input.sk-toggleable__control:checked~div.sk-toggleable__content {max-height: 200px;max-width: 100%;overflow: auto;}#sk-container-id-4 input.sk-toggleable__control:checked~label.sk-toggleable__label-arrow:before {content: \"▾\";}#sk-container-id-4 div.sk-estimator input.sk-toggleable__control:checked~label.sk-toggleable__label {background-color: #d4ebff;}#sk-container-id-4 div.sk-label input.sk-toggleable__control:checked~label.sk-toggleable__label {background-color: #d4ebff;}#sk-container-id-4 input.sk-hidden--visually {border: 0;clip: rect(1px 1px 1px 1px);clip: rect(1px, 1px, 1px, 1px);height: 1px;margin: -1px;overflow: hidden;padding: 0;position: absolute;width: 1px;}#sk-container-id-4 div.sk-estimator {font-family: monospace;background-color: #f0f8ff;border: 1px dotted black;border-radius: 0.25em;box-sizing: border-box;margin-bottom: 0.5em;}#sk-container-id-4 div.sk-estimator:hover {background-color: #d4ebff;}#sk-container-id-4 div.sk-parallel-item::after {content: \"\";width: 100%;border-bottom: 1px solid gray;flex-grow: 1;}#sk-container-id-4 div.sk-label:hover label.sk-toggleable__label {background-color: #d4ebff;}#sk-container-id-4 div.sk-serial::before {content: \"\";position: absolute;border-left: 1px solid gray;box-sizing: border-box;top: 0;bottom: 0;left: 50%;z-index: 0;}#sk-container-id-4 div.sk-serial {display: flex;flex-direction: column;align-items: center;background-color: white;padding-right: 0.2em;padding-left: 0.2em;position: relative;}#sk-container-id-4 div.sk-item {position: relative;z-index: 1;}#sk-container-id-4 div.sk-parallel {display: flex;align-items: stretch;justify-content: center;background-color: white;position: relative;}#sk-container-id-4 div.sk-item::before, #sk-container-id-4 div.sk-parallel-item::before {content: \"\";position: absolute;border-left: 1px solid gray;box-sizing: border-box;top: 0;bottom: 0;left: 50%;z-index: -1;}#sk-container-id-4 div.sk-parallel-item {display: flex;flex-direction: column;z-index: 1;position: relative;background-color: white;}#sk-container-id-4 div.sk-parallel-item:first-child::after {align-self: flex-end;width: 50%;}#sk-container-id-4 div.sk-parallel-item:last-child::after {align-self: flex-start;width: 50%;}#sk-container-id-4 div.sk-parallel-item:only-child::after {width: 0;}#sk-container-id-4 div.sk-dashed-wrapped {border: 1px dashed gray;margin: 0 0.4em 0.5em 0.4em;box-sizing: border-box;padding-bottom: 0.4em;background-color: white;}#sk-container-id-4 div.sk-label label {font-family: monospace;font-weight: bold;display: inline-block;line-height: 1.2em;}#sk-container-id-4 div.sk-label-container {text-align: center;}#sk-container-id-4 div.sk-container {/* jupyter's `normalize.less` sets `[hidden] { display: none; }` but bootstrap.min.css set `[hidden] { display: none !important; }` so we also need the `!important` here to be able to override the default hidden behavior on the sphinx rendered scikit-learn.org. See: https://github.com/scikit-learn/scikit-learn/issues/21755 */display: inline-block !important;position: relative;}#sk-container-id-4 div.sk-text-repr-fallback {display: none;}</style><div id=\"sk-container-id-4\" class=\"sk-top-container\"><div class=\"sk-text-repr-fallback\"><pre>RandomForestClassifier(n_jobs=-1, random_state=1, verbose=1)</pre><b>In a Jupyter environment, please rerun this cell to show the HTML representation or trust the notebook. <br />On GitHub, the HTML representation is unable to render, please try loading this page with nbviewer.org.</b></div><div class=\"sk-container\" hidden><div class=\"sk-item\"><div class=\"sk-estimator sk-toggleable\"><input class=\"sk-toggleable__control sk-hidden--visually\" id=\"sk-estimator-id-4\" type=\"checkbox\" checked><label for=\"sk-estimator-id-4\" class=\"sk-toggleable__label sk-toggleable__label-arrow\">RandomForestClassifier</label><div class=\"sk-toggleable__content\"><pre>RandomForestClassifier(n_jobs=-1, random_state=1, verbose=1)</pre></div></div></div></div></div>"
      ],
      "text/plain": [
       "RandomForestClassifier(n_jobs=-1, random_state=1, verbose=1)"
      ]
     },
     "execution_count": 149,
     "metadata": {},
     "output_type": "execute_result"
    }
   ],
   "source": [
    "# Train model\n",
    "rfc_model.fit(X_train, y_train)"
   ]
  },
  {
   "cell_type": "markdown",
   "id": "762f16d0",
   "metadata": {},
   "source": [
    "# Model evaluation\n",
    "The model is evaluated using four evaluation metrics:\n",
    "1. Accuracy\n",
    "2. Precision\n",
    "3. Recall\n",
    "4. ROC-AUC score\n",
    "\n",
    "As the dataset is imbalanced, the different evaluation metrics would be more helpful in determining the performance of the model, rather than just using accuracy as the evaluation metric."
   ]
  },
  {
   "cell_type": "code",
   "execution_count": 147,
   "id": "a615c427",
   "metadata": {},
   "outputs": [],
   "source": [
    "def print_metrics(y_test, y_preds):\n",
    "    metrics = {'accuracy': accuracy_score(y_test, y_preds),\n",
    "               'precision':  precision_score(y_test, y_preds, average='macro'),\n",
    "               'recall': recall_score(y_test, y_preds, average='macro'),\n",
    "               'roc_auc': roc_auc_score(y_test, y_preds, average='macro')}\n",
    "\n",
    "    print(\"Results on testing set\")\n",
    "    print(\"----------------------\")\n",
    "    print(\"Accuracy score:\", metrics['accuracy'])\n",
    "    print(\"Precision score:\", metrics['precision'])\n",
    "    print(\"Recall score:\", metrics['recall'])\n",
    "    print(\"ROC-AUC score:\", metrics['roc_auc'])"
   ]
  },
  {
   "cell_type": "code",
   "execution_count": 150,
   "id": "44ef528e",
   "metadata": {
    "scrolled": false
   },
   "outputs": [
    {
     "name": "stderr",
     "output_type": "stream",
     "text": [
      "[Parallel(n_jobs=8)]: Using backend ThreadingBackend with 8 concurrent workers.\n",
      "[Parallel(n_jobs=8)]: Done  34 tasks      | elapsed:    0.9s\n"
     ]
    },
    {
     "name": "stdout",
     "output_type": "stream",
     "text": [
      "Results on testing set\n",
      "----------------------\n",
      "Accuracy score: 0.9671123883461832\n",
      "Precision score: 0.9816528055978228\n",
      "Recall score: 0.8630672056648756\n",
      "ROC-AUC score: 0.8630672056648756\n"
     ]
    },
    {
     "name": "stderr",
     "output_type": "stream",
     "text": [
      "[Parallel(n_jobs=8)]: Done 100 out of 100 | elapsed:    2.4s finished\n"
     ]
    }
   ],
   "source": [
    "print_metrics(y_test, rfc_model.predict(X_test))"
   ]
  }
 ],
 "metadata": {
  "kernelspec": {
   "display_name": "Python 3 (ipykernel)",
   "language": "python",
   "name": "python3"
  },
  "language_info": {
   "codemirror_mode": {
    "name": "ipython",
    "version": 3
   },
   "file_extension": ".py",
   "mimetype": "text/x-python",
   "name": "python",
   "nbconvert_exporter": "python",
   "pygments_lexer": "ipython3",
   "version": "3.9.7"
  }
 },
 "nbformat": 4,
 "nbformat_minor": 5
}
